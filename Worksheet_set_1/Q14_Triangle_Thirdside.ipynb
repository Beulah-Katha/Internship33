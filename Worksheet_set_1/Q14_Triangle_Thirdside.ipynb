{
 "cells": [
  {
   "cell_type": "markdown",
   "id": "b8148216",
   "metadata": {},
   "source": [
    "# 14. Write a Python program to get the third side of right-angled triangle from two given sides. "
   ]
  },
  {
   "cell_type": "code",
   "execution_count": 9,
   "id": "2f1f7f23",
   "metadata": {},
   "outputs": [],
   "source": [
    "def pythagoras(opposite_side,adjacent_side,hypotenuse):\n",
    "        if opposite_side == str(\"x\"):\n",
    "            #print(\"\")\n",
    "            return (\"Opposite = \" + str(((hypotenuse**2) - (adjacent_side**2))**0.5))\n",
    "        elif adjacent_side == str(\"x\"):\n",
    "            return (\"Adjacent = \" + str(((hypotenuse**2) - (opposite_side**2))**0.5))\n",
    "        elif hypotenuse == str(\"x\"):\n",
    "            #print(\"Opposite Side : \",opposite_side)\n",
    "            return (\"Hypotenuse = \" + str(((opposite_side**2) + (adjacent_side**2))**0.5))\n",
    "        else:\n",
    "            return \"You know the answer!\""
   ]
  },
  {
   "cell_type": "code",
   "execution_count": 10,
   "id": "ef35bd9a",
   "metadata": {},
   "outputs": [
    {
     "name": "stdout",
     "output_type": "stream",
     "text": [
      "Hypotenuse = 5.0\n"
     ]
    }
   ],
   "source": [
    "print(pythagoras(3,4,'x'))"
   ]
  },
  {
   "cell_type": "code",
   "execution_count": 4,
   "id": "68b2550d",
   "metadata": {},
   "outputs": [
    {
     "name": "stdout",
     "output_type": "stream",
     "text": [
      "Adjacent = 4.0\n"
     ]
    }
   ],
   "source": [
    "print(pythagoras(3,'x',5))"
   ]
  },
  {
   "cell_type": "code",
   "execution_count": 5,
   "id": "af5efdd4",
   "metadata": {},
   "outputs": [
    {
     "name": "stdout",
     "output_type": "stream",
     "text": [
      "Opposite = 3.0\n"
     ]
    }
   ],
   "source": [
    "print(pythagoras('x',4,5))"
   ]
  },
  {
   "cell_type": "code",
   "execution_count": 6,
   "id": "4c39d90d",
   "metadata": {},
   "outputs": [
    {
     "name": "stdout",
     "output_type": "stream",
     "text": [
      "You know the answer!\n"
     ]
    }
   ],
   "source": [
    "print(pythagoras(3,4,5))"
   ]
  },
  {
   "cell_type": "code",
   "execution_count": null,
   "id": "9279a097",
   "metadata": {},
   "outputs": [],
   "source": []
  }
 ],
 "metadata": {
  "kernelspec": {
   "display_name": "Python 3 (ipykernel)",
   "language": "python",
   "name": "python3"
  },
  "language_info": {
   "codemirror_mode": {
    "name": "ipython",
    "version": 3
   },
   "file_extension": ".py",
   "mimetype": "text/x-python",
   "name": "python",
   "nbconvert_exporter": "python",
   "pygments_lexer": "ipython3",
   "version": "3.9.12"
  }
 },
 "nbformat": 4,
 "nbformat_minor": 5
}
