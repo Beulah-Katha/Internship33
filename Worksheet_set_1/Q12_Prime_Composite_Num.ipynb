{
 "cells": [
  {
   "cell_type": "markdown",
   "id": "60327593",
   "metadata": {},
   "source": [
    "# 12. Write a python program to find whether a number is prime or composite. "
   ]
  },
  {
   "cell_type": "code",
   "execution_count": 2,
   "id": "1e606c25",
   "metadata": {},
   "outputs": [
    {
     "name": "stdout",
     "output_type": "stream",
     "text": [
      "Enter a number :7\n",
      "7  is prime number\n"
     ]
    }
   ],
   "source": [
    "num = int(input(\"Enter a number :\"))\n",
    "\n",
    "n = num + 1\n",
    "count = 0\n",
    "\n",
    "for i in range(1,n) :\n",
    "    if (num % i == 0):\n",
    "        count = count + 1\n",
    "    i = i + 1\n",
    "if count == 2:\n",
    "    print(num, \" is prime number\")\n",
    "else:\n",
    "    print(num, \"is composite number\")\n",
    "\n"
   ]
  },
  {
   "cell_type": "code",
   "execution_count": null,
   "id": "7ecfc86e",
   "metadata": {},
   "outputs": [],
   "source": []
  }
 ],
 "metadata": {
  "kernelspec": {
   "display_name": "Python 3 (ipykernel)",
   "language": "python",
   "name": "python3"
  },
  "language_info": {
   "codemirror_mode": {
    "name": "ipython",
    "version": 3
   },
   "file_extension": ".py",
   "mimetype": "text/x-python",
   "name": "python",
   "nbconvert_exporter": "python",
   "pygments_lexer": "ipython3",
   "version": "3.9.12"
  }
 },
 "nbformat": 4,
 "nbformat_minor": 5
}
