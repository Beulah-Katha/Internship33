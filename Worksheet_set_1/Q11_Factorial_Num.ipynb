{
 "cells": [
  {
   "cell_type": "markdown",
   "id": "7227f1e5",
   "metadata": {},
   "source": [
    "# Q11. Write a python program to find the factorial of a number.\n"
   ]
  },
  {
   "cell_type": "code",
   "execution_count": 3,
   "id": "3437fba5",
   "metadata": {},
   "outputs": [
    {
     "name": "stdout",
     "output_type": "stream",
     "text": [
      "Enter a number:5\n",
      "The factorial of 5 is 120\n"
     ]
    }
   ],
   "source": [
    "while True :\n",
    "    num = int(input(\"Enter a number:\"))\n",
    "    #fact = 1 \n",
    "    #n = num + 1\n",
    "    if num < 0 :\n",
    "        print(\"Number can't be negative, please enter \")      \n",
    "    elif num == 0 :\n",
    "        print(\"The factorial of 0 is 1\")\n",
    "    else :\n",
    "        fact = 1\n",
    "        n = num + 1\n",
    "        for i in range (1,n):\n",
    "            fact = fact * i\n",
    "        #break \n",
    "        print(\"The factorial of\", num,\"is\", fact)\n",
    "        break"
   ]
  },
  {
   "cell_type": "code",
   "execution_count": null,
   "id": "0db531fc",
   "metadata": {},
   "outputs": [],
   "source": []
  }
 ],
 "metadata": {
  "kernelspec": {
   "display_name": "Python 3 (ipykernel)",
   "language": "python",
   "name": "python3"
  },
  "language_info": {
   "codemirror_mode": {
    "name": "ipython",
    "version": 3
   },
   "file_extension": ".py",
   "mimetype": "text/x-python",
   "name": "python",
   "nbconvert_exporter": "python",
   "pygments_lexer": "ipython3",
   "version": "3.9.12"
  }
 },
 "nbformat": 4,
 "nbformat_minor": 5
}
