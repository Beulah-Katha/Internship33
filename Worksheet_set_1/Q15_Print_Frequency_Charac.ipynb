{
 "cells": [
  {
   "cell_type": "markdown",
   "id": "fbe62257",
   "metadata": {},
   "source": [
    "# 15. Write a python program to print the frequency of each of the characters present in a given string"
   ]
  },
  {
   "cell_type": "code",
   "execution_count": 27,
   "id": "dd7d0b50",
   "metadata": {},
   "outputs": [
    {
     "name": "stdout",
     "output_type": "stream",
     "text": [
      "Enter a String : bulbul\n",
      "Count of all characters in bulbul is :  {'b': 2, 'u': 2, 'l': 2}\n"
     ]
    }
   ],
   "source": [
    " \n",
    "fstr = input(\"Enter a String : \")\n",
    "  \n",
    "# creating a dictionary\n",
    "\n",
    "freqchar = {}\n",
    "  \n",
    "for i in fstr:\n",
    "    \n",
    "    if i in freqchar:\n",
    "        freqchar[i] += 1\n",
    "    else:\n",
    "        freqchar[i] = 1\n",
    "print (\"Count of all characters in\", fstr , \"is : \" ,  str(freqchar))\n",
    "\n",
    "#print(len(freqchar))\n",
    "#print(freqchar.keys())\n",
    "#print(freqchar.values())\n",
    "#print(freqchar.items())"
   ]
  },
  {
   "cell_type": "code",
   "execution_count": null,
   "id": "7ae9eda1",
   "metadata": {},
   "outputs": [],
   "source": []
  }
 ],
 "metadata": {
  "kernelspec": {
   "display_name": "Python 3 (ipykernel)",
   "language": "python",
   "name": "python3"
  },
  "language_info": {
   "codemirror_mode": {
    "name": "ipython",
    "version": 3
   },
   "file_extension": ".py",
   "mimetype": "text/x-python",
   "name": "python",
   "nbconvert_exporter": "python",
   "pygments_lexer": "ipython3",
   "version": "3.9.12"
  }
 },
 "nbformat": 4,
 "nbformat_minor": 5
}
