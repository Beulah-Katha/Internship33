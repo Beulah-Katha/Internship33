{
 "cells": [
  {
   "cell_type": "markdown",
   "id": "d305f488",
   "metadata": {},
   "source": [
    "- Customers: stores customer’s data.\n",
    "- Products: stores a list of scale model cars.\n",
    "- ProductLines: stores a list of product line categories.\n",
    "- Orders: stores sales orders placed by customers.\n",
    "- OrderDetails: stores sales order line items for each sales order.\n",
    "- Payments: stores payments made by customers based on their accounts.\n",
    "- Employees: stores all employee information as well as the organization structure such as who reports to whom.\n",
    "- Offices: stores sales office data.\n"
   ]
  },
  {
   "cell_type": "code",
   "execution_count": 1,
   "id": "c65097b3",
   "metadata": {},
   "outputs": [],
   "source": [
    "import sqlite3"
   ]
  },
  {
   "cell_type": "code",
   "execution_count": 2,
   "id": "20a07883",
   "metadata": {},
   "outputs": [],
   "source": [
    "# connecting with the database\n",
    "\n",
    "db = sqlite3.connect(\"Customer_database.db\")\n"
   ]
  },
  {
   "cell_type": "code",
   "execution_count": 3,
   "id": "f84d99df",
   "metadata": {},
   "outputs": [],
   "source": [
    "# Declare cursor\n",
    "\n",
    "cursor = db.cursor()"
   ]
  },
  {
   "cell_type": "code",
   "execution_count": 8,
   "id": "c01cd989",
   "metadata": {},
   "outputs": [
    {
     "data": {
      "text/plain": [
       "<sqlite3.Cursor at 0x1982aa73f10>"
      ]
     },
     "execution_count": 8,
     "metadata": {},
     "output_type": "execute_result"
    }
   ],
   "source": [
    "cursor.execute(\"drop table customers_table\")\n",
    "cursor.execute(\"drop table if exists orders_table\")"
   ]
  },
  {
   "cell_type": "markdown",
   "id": "b2bc66e8",
   "metadata": {},
   "source": [
    "# 1. Write SQL query to create table Customers."
   ]
  },
  {
   "cell_type": "code",
   "execution_count": 9,
   "id": "727a37b6",
   "metadata": {},
   "outputs": [
    {
     "data": {
      "text/plain": [
       "<sqlite3.Cursor at 0x1982aa73f10>"
      ]
     },
     "execution_count": 9,
     "metadata": {},
     "output_type": "execute_result"
    }
   ],
   "source": [
    "# Creating customer table\n",
    "\n",
    "cursor.execute(\"create table customers_table(customerNumber text primary key,customerName text,contactLastName text,contactFirstName text,phone int,addressline1 text,addressline2 text,city text,state text,postalCode int,country text,salesRepEmployeeNumber text,creditLimit int)\")"
   ]
  },
  {
   "cell_type": "code",
   "execution_count": 10,
   "id": "787c1dce",
   "metadata": {},
   "outputs": [],
   "source": [
    "# inserting records in the customer table\n",
    "\n",
    "cursor.execute(\"insert into customers_table values('c1','abc','c','a',9876543210,'rknagar','miyapur','hyderabad','telangana',500049,'India','s102',5500),('c2','xyz','z','x',9876543211,'bnagar','kukatpally','karimnagar','telangana',505187,'India','s103',10000)\")\n",
    "\n",
    "db.commit()"
   ]
  },
  {
   "cell_type": "markdown",
   "id": "5d29ef29",
   "metadata": {},
   "source": [
    "# 2. Write SQL query to create table Orders."
   ]
  },
  {
   "cell_type": "code",
   "execution_count": 11,
   "id": "0f0def71",
   "metadata": {},
   "outputs": [
    {
     "data": {
      "text/plain": [
       "<sqlite3.Cursor at 0x1982aa73f10>"
      ]
     },
     "execution_count": 11,
     "metadata": {},
     "output_type": "execute_result"
    }
   ],
   "source": [
    "# creating orders table\n",
    "\n",
    "cursor.execute(\"create table orders_table(orderNumber text primary key,orderDate date,requiredDate date,shippedDate date,status text,comments text,customerNumber text, foreign key(customerNumber) references customers_table(customerNumber))\")"
   ]
  },
  {
   "cell_type": "markdown",
   "id": "a0f847b8",
   "metadata": {},
   "source": [
    "# 3. Write SQL query to show all the columns data from the Orders Table."
   ]
  },
  {
   "cell_type": "code",
   "execution_count": 12,
   "id": "82444702",
   "metadata": {},
   "outputs": [
    {
     "name": "stdout",
     "output_type": "stream",
     "text": [
      "\n",
      "Columns in Orders Table:\n",
      "\n",
      "orderNumber\n",
      "orderDate\n",
      "requiredDate\n",
      "shippedDate\n",
      "status\n",
      "comments\n",
      "customerNumber\n"
     ]
    }
   ],
   "source": [
    "# Display columns\n",
    "\n",
    "print('\\nColumns in Orders Table:\\n')\n",
    "data=cursor.execute(\"select * from orders_table\")\n",
    "for column in data.description:\n",
    "    print(column[0])\n",
    "      "
   ]
  },
  {
   "cell_type": "code",
   "execution_count": 13,
   "id": "102b1238",
   "metadata": {},
   "outputs": [],
   "source": [
    "# inserting data into orders table\n",
    "\n",
    "cursor.execute(\"insert into orders_table values('o1','2022-10-10','2022-10-28','2022-10-12','shipped','order1','c1'),('o2','2022-11-05','2022-11-15','2022-11-06','packed','order2','c3')\")\n",
    "db.commit()"
   ]
  },
  {
   "cell_type": "markdown",
   "id": "8d3e9659",
   "metadata": {},
   "source": [
    "# 4. Write SQL query to show all the comments from the OrdersTable."
   ]
  },
  {
   "cell_type": "code",
   "execution_count": 14,
   "id": "0fecac91",
   "metadata": {},
   "outputs": [
    {
     "name": "stdout",
     "output_type": "stream",
     "text": [
      "('order1',)\n",
      "('order2',)\n"
     ]
    }
   ],
   "source": [
    "results = cursor.execute(\"select comments from orders_table\")\n",
    "\n",
    "for row in results:\n",
    "    print(row)"
   ]
  },
  {
   "cell_type": "markdown",
   "id": "dbcca5c7",
   "metadata": {},
   "source": [
    "# 5. Write a SQL query to show orderDate and Total number of orders placed on that date, from Orderstable."
   ]
  },
  {
   "cell_type": "code",
   "execution_count": 15,
   "id": "e3ebded6",
   "metadata": {},
   "outputs": [],
   "source": [
    "cursor.execute(\"insert into orders_table values('o3','2022-10-10','2022-10-28','2022-10-12','in progress','order3','c2'),('o4','2022-11-05','2022-11-15','2022-11-06','packed','order4','c4')\")\n",
    "db.commit()"
   ]
  },
  {
   "cell_type": "code",
   "execution_count": 16,
   "id": "c37507d2",
   "metadata": {},
   "outputs": [
    {
     "name": "stdout",
     "output_type": "stream",
     "text": [
      "('o1', '2022-10-10', '2022-10-28', '2022-10-12', 'shipped', 'order1', 'c1')\n",
      "('o2', '2022-11-05', '2022-11-15', '2022-11-06', 'packed', 'order2', 'c3')\n",
      "('o3', '2022-10-10', '2022-10-28', '2022-10-12', 'in progress', 'order3', 'c2')\n",
      "('o4', '2022-11-05', '2022-11-15', '2022-11-06', 'packed', 'order4', 'c4')\n"
     ]
    }
   ],
   "source": [
    "results = cursor.execute(\"select * from orders_table\")\n",
    "\n",
    "for row in results:\n",
    "    print(row)"
   ]
  },
  {
   "cell_type": "code",
   "execution_count": 17,
   "id": "d5146ff6",
   "metadata": {},
   "outputs": [
    {
     "name": "stdout",
     "output_type": "stream",
     "text": [
      "('2022-10-10', 2)\n"
     ]
    }
   ],
   "source": [
    "results = cursor.execute(\"select orderDate, count(orderNumber) from orders_table  where orderDate='2022-10-10'\")\n",
    "\n",
    "for row in results:\n",
    "    print(row)"
   ]
  },
  {
   "cell_type": "markdown",
   "id": "3fac11b8",
   "metadata": {},
   "source": [
    "# 6. Write a SQL query to show employeNumber, lastName, firstName of all the employees from employees table."
   ]
  },
  {
   "cell_type": "code",
   "execution_count": 18,
   "id": "34058c87",
   "metadata": {},
   "outputs": [
    {
     "data": {
      "text/plain": [
       "<sqlite3.Cursor at 0x1982aa73f10>"
      ]
     },
     "execution_count": 18,
     "metadata": {},
     "output_type": "execute_result"
    }
   ],
   "source": [
    "cursor.execute(\"create table employees_table(employeeNumber text primary key,lastName text,firstName,email text,officeCode text,reportsTo text,jobTitle text)\")"
   ]
  },
  {
   "cell_type": "code",
   "execution_count": 19,
   "id": "83ef29c1",
   "metadata": {},
   "outputs": [],
   "source": [
    "# inserting records in the employees table\n",
    "\n",
    "cursor.execute(\"insert into employees_table values('e001','saxena','ajay','aj@gmail.com','oc33','manager','dataanalyst'),('e002','sharma','vijay','vj@gmail.com','oc33','manager','datascientist')\")\n",
    "\n",
    "db.commit()"
   ]
  },
  {
   "cell_type": "code",
   "execution_count": 20,
   "id": "745022d2",
   "metadata": {},
   "outputs": [
    {
     "name": "stdout",
     "output_type": "stream",
     "text": [
      "('e001', 'saxena', 'ajay')\n",
      "('e002', 'sharma', 'vijay')\n"
     ]
    }
   ],
   "source": [
    "results = cursor.execute(\"select employeeNumber,lastName,firstName from employees_table\")\n",
    "\n",
    "for row in results:\n",
    "    print(row)"
   ]
  },
  {
   "cell_type": "markdown",
   "id": "cdf1e1a3",
   "metadata": {},
   "source": [
    "# 7. Write a SQL query to show all orderNumber, customerName of the person who placed the respective order."
   ]
  },
  {
   "cell_type": "code",
   "execution_count": 21,
   "id": "9949f963",
   "metadata": {},
   "outputs": [],
   "source": [
    "cursor.execute(\"insert into customers_table values('c11','raju','r','j',9876543410,'sknagar','ameerpet','hyderabad','telangana',500044,'India','s112',5500),('c8','rohit','h','t',9856543211,'sknagar','jyotinagar','peddapally','telangana',505185,'India','s156',25000)\")\n",
    "\n",
    "db.commit()"
   ]
  },
  {
   "cell_type": "code",
   "execution_count": 25,
   "id": "cc86a8ff",
   "metadata": {},
   "outputs": [],
   "source": [
    "cursor.execute(\"insert into customers_table values('c3','satyaraju','s','y',9876553410,'ramnagar','steel plant','bhilai','chattisgarh',405034,'India','s11',55500),('c4','ramana','ch','reddy',9857643211,'jamnagar','rkpuram','karimnagar','telangana',512185,'India','s56',55000)\")\n",
    "\n",
    "db.commit()"
   ]
  },
  {
   "cell_type": "code",
   "execution_count": 26,
   "id": "a809ab73",
   "metadata": {},
   "outputs": [
    {
     "name": "stdout",
     "output_type": "stream",
     "text": [
      "('c1', 'o1')\n",
      "('c11', None)\n",
      "('c2', 'o3')\n",
      "('c3', 'o2')\n",
      "('c4', 'o4')\n",
      "('c8', None)\n"
     ]
    }
   ],
   "source": [
    "sql = \"select customers_table.customerNumber, orders_table.orderNumber from customers_table left join orders_table on customers_table.customerNumber=orders_table.customerNumber\"\n",
    "\n",
    "results = cursor.execute(sql)\n",
    "for row in results:\n",
    "    print(row)"
   ]
  },
  {
   "cell_type": "markdown",
   "id": "42dc7a54",
   "metadata": {},
   "source": [
    "# 8. Write a SQL query to show name of all the customers in one column and salerepemployee name in another column."
   ]
  },
  {
   "cell_type": "code",
   "execution_count": null,
   "id": "790a0465",
   "metadata": {},
   "outputs": [],
   "source": []
  },
  {
   "cell_type": "markdown",
   "id": "19ed05a1",
   "metadata": {},
   "source": [
    "# 9. Write a SQL query to show Date in one column and total payment amount of the payments made on that date from the payments table."
   ]
  },
  {
   "cell_type": "code",
   "execution_count": null,
   "id": "41bf0738",
   "metadata": {},
   "outputs": [],
   "source": []
  },
  {
   "cell_type": "markdown",
   "id": "d993802c",
   "metadata": {},
   "source": [
    "# 10. Write a SQL query to show all the products productName, MSRP, productDescription from the products table.\n"
   ]
  },
  {
   "cell_type": "code",
   "execution_count": null,
   "id": "c8f0ecc3",
   "metadata": {},
   "outputs": [],
   "source": []
  },
  {
   "cell_type": "markdown",
   "id": "29dcbc54",
   "metadata": {},
   "source": [
    "# 11. Write a SQL query to print the productName, productDescription of the most ordered product.\n"
   ]
  },
  {
   "cell_type": "code",
   "execution_count": null,
   "id": "de0eff07",
   "metadata": {},
   "outputs": [],
   "source": []
  },
  {
   "cell_type": "markdown",
   "id": "72406abb",
   "metadata": {},
   "source": [
    "# 12. Write a SQL query to print the city name where maximum number of orders were placed.\n"
   ]
  },
  {
   "cell_type": "code",
   "execution_count": null,
   "id": "b3426bb0",
   "metadata": {},
   "outputs": [],
   "source": []
  },
  {
   "cell_type": "markdown",
   "id": "467c492e",
   "metadata": {},
   "source": [
    "# 13. Write a SQL query to get the name of the state having maximum number of customers.\n"
   ]
  },
  {
   "cell_type": "code",
   "execution_count": null,
   "id": "703aab3f",
   "metadata": {},
   "outputs": [],
   "source": []
  },
  {
   "cell_type": "markdown",
   "id": "fd41fdb3",
   "metadata": {},
   "source": [
    "# 14. Write a SQL query to print the employee number in one column and Full name of the employee in the second column for all the employees.\n"
   ]
  },
  {
   "cell_type": "code",
   "execution_count": null,
   "id": "e1176928",
   "metadata": {},
   "outputs": [],
   "source": []
  },
  {
   "cell_type": "markdown",
   "id": "d4fbfad5",
   "metadata": {},
   "source": [
    "# 15. Write a SQL query to print the orderNumber, customer Name and total amount paid by the customer for that order (quantityOrdered × priceEach)"
   ]
  },
  {
   "cell_type": "code",
   "execution_count": null,
   "id": "9040f96f",
   "metadata": {},
   "outputs": [],
   "source": []
  },
  {
   "cell_type": "code",
   "execution_count": null,
   "id": "82091df5",
   "metadata": {},
   "outputs": [],
   "source": []
  }
 ],
 "metadata": {
  "kernelspec": {
   "display_name": "Python 3 (ipykernel)",
   "language": "python",
   "name": "python3"
  },
  "language_info": {
   "codemirror_mode": {
    "name": "ipython",
    "version": 3
   },
   "file_extension": ".py",
   "mimetype": "text/x-python",
   "name": "python",
   "nbconvert_exporter": "python",
   "pygments_lexer": "ipython3",
   "version": "3.9.12"
  }
 },
 "nbformat": 4,
 "nbformat_minor": 5
}
