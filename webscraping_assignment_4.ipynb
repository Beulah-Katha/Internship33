{
 "cells": [
  {
   "cell_type": "markdown",
   "id": "87319423",
   "metadata": {},
   "source": [
    "# WEB SCRAPING – ASSIGNMENT 4"
   ]
  },
  {
   "cell_type": "code",
   "execution_count": 1,
   "id": "9903d363",
   "metadata": {},
   "outputs": [],
   "source": [
    "!pip install selenium  --quiet"
   ]
  },
  {
   "cell_type": "code",
   "execution_count": 2,
   "id": "086018ff",
   "metadata": {},
   "outputs": [],
   "source": [
    "# Importing all required libraries\n",
    "\n",
    "import selenium\n",
    "from selenium import webdriver\n",
    "from selenium.webdriver.common.by import By\n",
    "from selenium.common.exceptions import NoSuchElementException\n",
    "\n",
    "from bs4 import BeautifulSoup\n",
    "\n",
    "import pandas as pd\n",
    "\n",
    "import requests\n",
    "import urllib\n",
    "import re\n",
    "\n",
    "import warnings\n",
    "warnings.filterwarnings('ignore')\n",
    "import time"
   ]
  },
  {
   "cell_type": "markdown",
   "id": "a353907a",
   "metadata": {},
   "source": [
    "# 1. Scrape the details of most viewed videos on YouTube from Wikipedia.\n",
    "Url = https://en.wikipedia.org/wiki/List_of_most-viewed_YouTube_videos\n",
    "\n",
    "You need to find following details:\n",
    "A) Rank\n",
    "B) Name\n",
    "C) Artist\n",
    "D) Upload date\n",
    "E) Views"
   ]
  },
  {
   "cell_type": "code",
   "execution_count": null,
   "id": "626f9373",
   "metadata": {},
   "outputs": [],
   "source": [
    "# First connect to webdriver\n",
    "\n",
    "driver = webdriver.Chrome(r'C:\\Users\\BEULAH\\Downloads\\chromedriver_win32\\chromedriver.exe')\n",
    "time.sleep(3)\n",
    "\n",
    "# Maximizing the automated chrome window\n",
    "\n",
    "driver.maximize_window()\n",
    "driver.minimize_window()"
   ]
  },
  {
   "cell_type": "code",
   "execution_count": null,
   "id": "a32e90e3",
   "metadata": {},
   "outputs": [],
   "source": [
    "# opening website\n",
    "\n",
    "url = 'https://en.wikipedia.org/wiki/List_of_most-viewed_YouTube_videos'\n",
    "driver.get(url)\n"
   ]
  },
  {
   "cell_type": "code",
   "execution_count": null,
   "id": "39945f0a",
   "metadata": {},
   "outputs": [],
   "source": [
    "row_count = len(driver.find_elements(By.XPATH,'//*[@id=\"mw-content-text\"]/div[1]/table[2]/tbody/tr'))\n",
    "#print(row_count)\n",
    "\n",
    "for r in range(1, row_count):\n",
    "    ranks_column = driver.find_elements(By.XPATH,'//*[@id=\"mw-content-text\"]/div[1]/table[2]/tbody/tr[\"+str(r)\"]/td[1]')\n",
    "    names_column = driver.find_elements(By.XPATH,'//*[@id=\"mw-content-text\"]/div[1]/table[2]/tbody/tr[\"+str(r)\"]/td[2]')\n",
    "    artist_column = driver.find_elements(By.XPATH,'//*[@id=\"mw-content-text\"]/div[1]/table[2]/tbody/tr[\"+str(r)\"]/td[3]')\n",
    "    date_column = driver.find_elements(By.XPATH,'//*[@id=\"mw-content-text\"]/div[1]/table[2]/tbody/tr[\"+str(r)\"]/td[5]')\n",
    "    views_column = driver.find_elements(By.XPATH,'//*[@id=\"mw-content-text\"]/div[1]/table[2]/tbody/tr[\"+str(r)\"]/td[4]')"
   ]
  },
  {
   "cell_type": "code",
   "execution_count": null,
   "id": "d35b74be",
   "metadata": {},
   "outputs": [],
   "source": [
    "\n",
    "rank = []\n",
    "name = []\n",
    "artist = []\n",
    "upload_date = []\n",
    "views = []\n",
    "\n",
    "for c1 in ranks_column:\n",
    "    rank.append(c1.text)\n",
    "    \n",
    "for c2 in names_column:\n",
    "    name.append(c2.text)\n",
    "    \n",
    "for c3 in artist_column:\n",
    "    artist.append(c3.text)\n",
    "    \n",
    "for c4 in date_column:\n",
    "    upload_date.append(c4.text)\n",
    "\n",
    "for c5 in views_column:\n",
    "    views.append(c5.text)\n"
   ]
  },
  {
   "cell_type": "code",
   "execution_count": null,
   "id": "3bf32261",
   "metadata": {},
   "outputs": [],
   "source": [
    "# creating dataframe\n",
    "\n",
    "df = pd.DataFrame( {'Rank':rank,\n",
    "                    'Name':name,\n",
    "                    'Artist':artist,\n",
    "                    'Upload Date':upload_date,\n",
    "                    'Views(in billions)':views\n",
    "                    } )\n",
    "df"
   ]
  },
  {
   "cell_type": "code",
   "execution_count": null,
   "id": "5bb43596",
   "metadata": {},
   "outputs": [],
   "source": [
    "driver.close()"
   ]
  },
  {
   "cell_type": "markdown",
   "id": "26a3096f",
   "metadata": {},
   "source": [
    "# 2. Scrape the details team India’s international fixtures from bcci.tv.\n",
    "Url = https://www.bcci.tv/.\n",
    "\n",
    "You need to find following details:\n",
    "A) Match title (I.e. 1\n",
    "st ODI)\n",
    "B) Series\n",
    "C) Place\n",
    "D) Date\n",
    "E) Time\n",
    "\n",
    "Note: - From bcci.tv home page you have reach to the international fixture page through code."
   ]
  },
  {
   "cell_type": "code",
   "execution_count": null,
   "id": "036dae49",
   "metadata": {},
   "outputs": [],
   "source": [
    "# First connect to webdriver\n",
    "\n",
    "driver = webdriver.Chrome(r'C:\\Users\\BEULAH\\Downloads\\chromedriver_win32\\chromedriver.exe')\n",
    "time.sleep(3)\n",
    "\n",
    "# Maximizing the automated chrome window\n",
    "\n",
    "#driver.maximize_window()\n",
    "#driver.minimize_window()"
   ]
  },
  {
   "cell_type": "code",
   "execution_count": null,
   "id": "0311d21d",
   "metadata": {},
   "outputs": [],
   "source": [
    "# opening website\n",
    "\n",
    "url = 'https://www.bcci.tv/'\n",
    "driver.get(url)\n"
   ]
  },
  {
   "cell_type": "code",
   "execution_count": null,
   "id": "c72107dc",
   "metadata": {},
   "outputs": [],
   "source": [
    "srch_intrnl_fix = driver.find_element(By.XPATH,'/html/body/nav/div[1]/div[2]/ul[1]/li[2]/a')\n",
    "srch_intrnl_fix.click()"
   ]
  },
  {
   "cell_type": "code",
   "execution_count": null,
   "id": "21036b85",
   "metadata": {},
   "outputs": [],
   "source": [
    "/html/body/div[2]/div[2]/div/div/div/div[2]/div[3]/div[1]/div[1]\n",
    "\n",
    "/html/body/div[2]/div[2]/div/div/div/div[2]/div[3]/div[1]/div[1]/div/div[1]/div/div[1]/h5\n",
    "\n",
    "/html/body/div[2]/div[2]/div/div/div/div[2]/div[3]/div[1]/div[2]/div/div[1]/div/div[1]/h5\n",
    "\n",
    "//*[@id=\"fixtures\"]/div[3]/div[1]/div[1]\n",
    "\n",
    "ranks_column = driver.find_elements(By.XPATH,'//*[@id=\"mw-content-text\"]/div[1]/table[2]/tbody/tr[\"+str(r)\"]/td[1]')"
   ]
  },
  {
   "cell_type": "code",
   "execution_count": null,
   "id": "9e03bb2f",
   "metadata": {},
   "outputs": [],
   "source": [
    "dates = []\n",
    "\n",
    "date_urls = driver.find_elements(By.XPATH,'//*[@id=\"fixtures\"]/div[3]/div[1]/div[1]')\n",
    "\n"
   ]
  },
  {
   "cell_type": "code",
   "execution_count": null,
   "id": "cd059920",
   "metadata": {},
   "outputs": [],
   "source": [
    "len(date_urls)"
   ]
  },
  {
   "cell_type": "code",
   "execution_count": null,
   "id": "0df56ef9",
   "metadata": {},
   "outputs": [],
   "source": [
    "for i in date_urls:\n",
    "    dates.append(i.text)"
   ]
  },
  {
   "cell_type": "code",
   "execution_count": null,
   "id": "45acee17",
   "metadata": {},
   "outputs": [],
   "source": [
    "driver.close()"
   ]
  },
  {
   "cell_type": "code",
   "execution_count": null,
   "id": "389a01e4",
   "metadata": {},
   "outputs": [],
   "source": []
  },
  {
   "cell_type": "markdown",
   "id": "d59e8123",
   "metadata": {},
   "source": [
    "# Scrape the details of selenium exception from guru99.com.\n",
    "Url = https://www.guru99.com/\n",
    "    \n",
    "You need to find following details:\n",
    "A) Name\n",
    "B) Description\n",
    "\n",
    "Note: - From guru99 home page you have to reach to selenium exception handling page through code."
   ]
  },
  {
   "cell_type": "code",
   "execution_count": null,
   "id": "27a1a787",
   "metadata": {},
   "outputs": [],
   "source": [
    "# First connect to webdriver\n",
    "\n",
    "driver = webdriver.Chrome(r'C:\\Users\\BEULAH\\Downloads\\chromedriver_win32\\chromedriver.exe')\n",
    "time.sleep(3)\n",
    "\n",
    "# Maximizing the automated chrome window\n",
    "\n",
    "driver.maximize_window()\n",
    "driver.minimize_window()"
   ]
  },
  {
   "cell_type": "code",
   "execution_count": null,
   "id": "575fbea8",
   "metadata": {},
   "outputs": [],
   "source": [
    "# opening website\n",
    "\n",
    "url = 'https://www.guru99.com/'\n",
    "driver.get(url)\n"
   ]
  },
  {
   "cell_type": "code",
   "execution_count": null,
   "id": "e952cc5e",
   "metadata": {},
   "outputs": [],
   "source": [
    "try:\n",
    "    srch_word = driver.find_element(By.XPATH,'/html/body/div[1]/div/div/div/main/div/article/div/div[1]/div[1]/div[2]/div/div[1]/div/div/div/form/table/tbody/tr/td[1]/div/table/tbody/tr/td[1]/input')\n",
    "    srch_word.send_keys(\"selenium exception handling\")\n",
    "\n",
    "    srch_button = driver.find_element(By.XPATH,'//button[@class=\"gsc-search-button gsc-search-button-v2\"]')\n",
    "    srch_button.click()\n",
    "    \n",
    "except NoSuchElementException as e:\n",
    "    print(\"Exception Raised:\",e)\n"
   ]
  },
  {
   "cell_type": "code",
   "execution_count": null,
   "id": "5eb9dd80",
   "metadata": {},
   "outputs": [],
   "source": [
    "names = []\n",
    "\n",
    "name_tags = driver.find_elements(By.XPATH,'//div[@class=\"gs-title\"]//a')\n",
    "\n",
    "for n in name_tags:\n",
    "    names.append(n.text)\n"
   ]
  },
  {
   "cell_type": "code",
   "execution_count": null,
   "id": "2c163612",
   "metadata": {},
   "outputs": [],
   "source": [
    "names"
   ]
  },
  {
   "cell_type": "code",
   "execution_count": null,
   "id": "78e2d2a5",
   "metadata": {},
   "outputs": [],
   "source": [
    "description = []\n",
    "\n",
    "desc_tags = driver.find_elements(By.XPATH,'//div[@class=\"gs-bidi-start-align gs-snippet\"]')\n",
    "\n",
    "for d in desc_tags:\n",
    "    description.append(d.text)"
   ]
  },
  {
   "cell_type": "code",
   "execution_count": null,
   "id": "a81a8382",
   "metadata": {},
   "outputs": [],
   "source": [
    "description"
   ]
  },
  {
   "cell_type": "code",
   "execution_count": null,
   "id": "161cf156",
   "metadata": {},
   "outputs": [],
   "source": [
    "driver.close()"
   ]
  },
  {
   "cell_type": "code",
   "execution_count": null,
   "id": "ecf8c724",
   "metadata": {},
   "outputs": [],
   "source": []
  },
  {
   "cell_type": "markdown",
   "id": "8142ed20",
   "metadata": {},
   "source": [
    "# 4. Scrape the details of State-wise GDP of India from statisticstime.com.\n",
    "Url = http://statisticstimes.com/\n",
    "    \n",
    "You have to find following details:\n",
    "A) Rank\n",
    "B) State\n",
    "C) GSDP(18-19)- at current prices\n",
    "D) GSDP(19-20)- at current prices\n",
    "E) Share(18-19)\n",
    "F) GDP($ billion)\n",
    "\n",
    "Note: - From statisticstimes home page you have to reach to economy page through code."
   ]
  },
  {
   "cell_type": "code",
   "execution_count": null,
   "id": "37095119",
   "metadata": {},
   "outputs": [],
   "source": [
    "# First connect to webdriver\n",
    "\n",
    "driver = webdriver.Chrome(r'C:\\Users\\BEULAH\\Downloads\\chromedriver_win32\\chromedriver.exe')\n",
    "\n",
    "\n",
    "# opening website\n",
    "\n",
    "url = 'http://statisticstimes.com/'\n",
    "driver.get(url)\n"
   ]
  },
  {
   "cell_type": "code",
   "execution_count": null,
   "id": "a835a386",
   "metadata": {},
   "outputs": [],
   "source": [
    "try:\n",
    "    srch_button = driver.find_element(By.XPATH,'/html/body/div[2]/div[1]/div[2]/div[2]/button')\n",
    "    srch_button.click()\n",
    "    \n",
    "    next = driver.find_element(By.XPATH,'/html/body/div[2]/div[1]/div[2]/div[2]/div/a[3]')\n",
    "    next.click()\n",
    "    \n",
    "    ind_state = driver.find_element(By.XPATH,'/html/body/div[2]/div[2]/div[2]/ul/li[1]/a')\n",
    "    ind_state.click()\n",
    "    \n",
    "except NoSuchElementException as e:\n",
    "    print(\"Exception Raised:\",e)\n"
   ]
  },
  {
   "cell_type": "code",
   "execution_count": null,
   "id": "a8215d8b",
   "metadata": {},
   "outputs": [],
   "source": [
    "row_count = len(driver.find_elements(By.XPATH,'//*[@id=\"table_id\"]/tbody/tr'))\n",
    "\n",
    "for r in range(1, row_count):\n",
    "    ranks_column = driver.find_elements(By.XPATH,'//*[@id=\"table_id\"]/tbody/tr[\"+str(r)\"]/td[1]')\n",
    "    states_column = driver.find_elements(By.XPATH,'//*[@id=\"table_id\"]/tbody/tr[\"+str(r)\"]/td[2]')\n",
    "    gsdp1819_column = driver.find_elements(By.XPATH,'//*[@id=\"table_id\"]/tbody/tr[\"+str(r)\"]/td[4]')\n",
    "    gsdp1920_column = driver.find_elements(By.XPATH,'//*[@id=\"table_id\"]/tbody/tr[\"+str(r)\"]/td[3]')\n",
    "    share1819_column = driver.find_elements(By.XPATH,'//*[@id=\"table_id\"]/tbody/tr[\"+str(r)\"]/td[5]')\n",
    "    gdp_column = driver.find_elements(By.XPATH,'//*[@id=\"table_id\"]/tbody/tr[\"+str(r)\"]/td[6]')\n",
    "    "
   ]
  },
  {
   "cell_type": "code",
   "execution_count": null,
   "id": "bf3bb2ba",
   "metadata": {},
   "outputs": [],
   "source": [
    "rank = []\n",
    "state = []\n",
    "gsdp1819 = []\n",
    "gsdp1920 = []\n",
    "share1819 = []\n",
    "gdp = []\n",
    "\n",
    "for c1 in ranks_column:\n",
    "    rank.append(c1.text)\n",
    "    \n",
    "for c2 in states_column:\n",
    "    state.append(c2.text)\n",
    "    \n",
    "for c3 in gsdp1819_column:\n",
    "    gsdp1819.append(c3.text)\n",
    "    \n",
    "for c4 in gsdp1920_column:\n",
    "    gsdp1920.append(c4.text)\n",
    "\n",
    "for c5 in share1819_column:\n",
    "    share1819.append(c5.text)\n",
    "    \n",
    "for c6 in gdp_column:\n",
    "    gdp.append(c6.text)\n"
   ]
  },
  {
   "cell_type": "code",
   "execution_count": null,
   "id": "0a294061",
   "metadata": {},
   "outputs": [],
   "source": [
    "# creating dataframe\n",
    "\n",
    "statewiseGDP_df = pd.DataFrame( {'Rank':rank,\n",
    "                    'State':state,\n",
    "                    'GSDP(18-19)':gsdp1819,\n",
    "                    'GSDP(19-20)':gsdp1920,\n",
    "                    'Share(18-19)':share1819,\n",
    "                    'GDP($ billion)':gdp\n",
    "                    } )\n",
    "statewiseGDP_df"
   ]
  },
  {
   "cell_type": "code",
   "execution_count": null,
   "id": "c79573ed",
   "metadata": {},
   "outputs": [],
   "source": [
    "driver.close()"
   ]
  },
  {
   "cell_type": "code",
   "execution_count": null,
   "id": "199de7d2",
   "metadata": {},
   "outputs": [],
   "source": []
  },
  {
   "cell_type": "markdown",
   "id": "51474bf1",
   "metadata": {},
   "source": [
    "# 5. Scrape the details of trending repositories on Github.com.\n",
    "\n",
    "Url = https://github.com/\n",
    "You have to find the following details:\n",
    "A) Repository title\n",
    "B) Repository description\n",
    "C) Contributors count\n",
    "D) Language used\n",
    "\n",
    "Note: - From the home page you have to click on the trending option from Explore menu through code."
   ]
  },
  {
   "cell_type": "code",
   "execution_count": null,
   "id": "0ff5ae35",
   "metadata": {},
   "outputs": [],
   "source": [
    "# First connect to webdriver\n",
    "\n",
    "driver = webdriver.Chrome(r'C:\\Users\\BEULAH\\Downloads\\chromedriver_win32\\chromedriver.exe')\n",
    "\n",
    "\n",
    "# opening website\n",
    "\n",
    "url = 'https://github.com/trending'\n",
    "driver.get(url)\n"
   ]
  },
  {
   "cell_type": "code",
   "execution_count": null,
   "id": "7b96554e",
   "metadata": {},
   "outputs": [],
   "source": [
    "titleurl_tags = driver.find_elements(By.XPATH,'//h1[@class=\"h3 lh-condensed\"]')\n",
    "repo_title = []\n",
    "\n",
    "for i in titleurl_tags:\n",
    "    repo_title.append(i.text)"
   ]
  },
  {
   "cell_type": "code",
   "execution_count": null,
   "id": "ec507b1d",
   "metadata": {},
   "outputs": [],
   "source": [
    "print(len(repo_title))\n",
    "\n",
    "repo_title"
   ]
  },
  {
   "cell_type": "code",
   "execution_count": null,
   "id": "42209da9",
   "metadata": {},
   "outputs": [],
   "source": [
    "try:\n",
    "    descurl_tags = driver.find_elements(By.XPATH,'//p[@class=\"col-9 color-fg-muted my-1 pr-4\"]')\n",
    "    repo_desc = []\n",
    "\n",
    "    for i in descurl_tags:\n",
    "        repo_desc.append(i.text)\n",
    "        \n",
    "except NoSuchElementException:\n",
    "    repo_desc.append('-')\n"
   ]
  },
  {
   "cell_type": "code",
   "execution_count": null,
   "id": "145b2b15",
   "metadata": {},
   "outputs": [],
   "source": [
    "print(len(repo_desc))\n",
    "\n",
    "repo_desc"
   ]
  },
  {
   "cell_type": "code",
   "execution_count": null,
   "id": "68c487b0",
   "metadata": {},
   "outputs": [],
   "source": [
    "count_tags = driver.find_elements(By.XPATH,'//article[@class=\"Box-row\"]//div[2]//a[1]')\n",
    "\n",
    "contributors_count = []\n",
    "for i in count_tags:\n",
    "    if i.text=='':\n",
    "        pass\n",
    "    else:      \n",
    "        contributors_count.append(i.text)"
   ]
  },
  {
   "cell_type": "code",
   "execution_count": null,
   "id": "f8ec6e93",
   "metadata": {},
   "outputs": [],
   "source": [
    "print(len(contributors_count))\n",
    "\n",
    "contributors_count"
   ]
  },
  {
   "cell_type": "code",
   "execution_count": null,
   "id": "b10f8793",
   "metadata": {},
   "outputs": [],
   "source": [
    "langurl_tags = driver.find_elements(By.XPATH,'//span[@class=\"d-inline-block ml-0 mr-3\"]')\n",
    "\n",
    "lang_used = []\n",
    "for i in langurl_tags:\n",
    "    lang_used.append(i.text)\n"
   ]
  },
  {
   "cell_type": "code",
   "execution_count": null,
   "id": "101e2b5f",
   "metadata": {},
   "outputs": [],
   "source": [
    "print(len(lang_used))\n",
    "\n",
    "lang_used"
   ]
  },
  {
   "cell_type": "code",
   "execution_count": null,
   "id": "666e0909",
   "metadata": {},
   "outputs": [],
   "source": [
    "driver.close()"
   ]
  },
  {
   "cell_type": "code",
   "execution_count": null,
   "id": "43482ecb",
   "metadata": {},
   "outputs": [],
   "source": []
  },
  {
   "cell_type": "markdown",
   "id": "3edd8482",
   "metadata": {},
   "source": [
    "# 6. Scrape the details of top 100 songs on billiboard.com.\n",
    "\n",
    "Url = https:/www.billboard.com/\n",
    "You have to find the following details:\n",
    "A) Song name\n",
    "B) Artist name\n",
    "C) Last week rank\n",
    "D) Peak rank\n",
    "E) Weeks on board\n",
    "\n",
    "Note: - From the home page you have to click on the charts option then hot 100-page link through code"
   ]
  },
  {
   "cell_type": "code",
   "execution_count": null,
   "id": "7f416df9",
   "metadata": {},
   "outputs": [],
   "source": [
    "# First connect to webdriver\n",
    "\n",
    "driver = webdriver.Chrome(r'C:\\Users\\BEULAH\\Downloads\\chromedriver_win32\\chromedriver.exe')\n",
    "\n",
    "\n",
    "# opening website\n",
    "\n",
    "url = 'https://www.billboard.com/charts/'\n",
    "driver.get(url)\n"
   ]
  },
  {
   "cell_type": "code",
   "execution_count": null,
   "id": "d3df14b5",
   "metadata": {},
   "outputs": [],
   "source": [
    "top100 = driver.find_element(By.XPATH,'/html/body/div[3]/main/div[2]/div[1]/div[1]/div/div/div[1]/div/div[2]/span/a')\n",
    "top100.click()"
   ]
  },
  {
   "cell_type": "code",
   "execution_count": null,
   "id": "12f1160c",
   "metadata": {},
   "outputs": [],
   "source": [
    "song_tags = driver.find_elements(By.XPATH,'//div[@class=\"o-chart-results-list-row-container\"]')\n",
    "len(song_tags)"
   ]
  },
  {
   "cell_type": "code",
   "execution_count": null,
   "id": "4754e9e9",
   "metadata": {},
   "outputs": [],
   "source": [
    "song_tags[:5]"
   ]
  },
  {
   "cell_type": "code",
   "execution_count": null,
   "id": "745d44b9",
   "metadata": {},
   "outputs": [],
   "source": [
    "info = []\n",
    "\n",
    "for i in song_tags:\n",
    "    info.append(i.text)\n",
    "#    sname_tags = driver.find_elements(By.XPATH,'//*[@id=\"title-of-a-story\"]')\n",
    "    \n",
    "#len(sname_tags)"
   ]
  },
  {
   "cell_type": "code",
   "execution_count": null,
   "id": "259a13cd",
   "metadata": {},
   "outputs": [],
   "source": [
    "info[:5]"
   ]
  },
  {
   "cell_type": "code",
   "execution_count": null,
   "id": "fa2210da",
   "metadata": {},
   "outputs": [],
   "source": [
    "title-of-a-story"
   ]
  },
  {
   "cell_type": "code",
   "execution_count": null,
   "id": "32680565",
   "metadata": {},
   "outputs": [],
   "source": []
  },
  {
   "cell_type": "code",
   "execution_count": null,
   "id": "c4802b13",
   "metadata": {},
   "outputs": [],
   "source": [
    "row_count = len(driver.find_elements(By.XPATH,'//*[@id=\"table_id\"]/tbody/tr'))\n",
    "\n",
    "for r in range(1, row_count):\n",
    "    ranks_column = driver.find_elements(By.XPATH,'//*[@id=\"table_id\"]/tbody/tr[\"+str(r)\"]/td[1]')\n",
    "    states_column = driver.find_elements(By.XPATH,'//*[@id=\"table_id\"]/tbody/tr[\"+str(r)\"]/td[2]')\n",
    "    gsdp1819_column = driver.find_elements(By.XPATH,'//*[@id=\"table_id\"]/tbody/tr[\"+str(r)\"]/td[4]')\n",
    "    gsdp1920_column = driver.find_elements(By.XPATH,'//*[@id=\"table_id\"]/tbody/tr[\"+str(r)\"]/td[3]')\n",
    "    share1819_column = driver.find_elements(By.XPATH,'//*[@id=\"table_id\"]/tbody/tr[\"+str(r)\"]/td[5]')\n",
    "    gdp_column = driver.find_elements(By.XPATH,'//*[@id=\"table_id\"]/tbody/tr[\"+str(r)\"]/td[6]')\n",
    "    "
   ]
  },
  {
   "cell_type": "code",
   "execution_count": null,
   "id": "15275376",
   "metadata": {},
   "outputs": [],
   "source": [
    "rank = []\n",
    "state = []\n",
    "gsdp1819 = []\n",
    "gsdp1920 = []\n",
    "share1819 = []\n",
    "gdp = []\n",
    "\n",
    "for c1 in ranks_column:\n",
    "    rank.append(c1.text)\n",
    "    \n",
    "for c2 in states_column:\n",
    "    state.append(c2.text)\n",
    "    \n",
    "for c3 in gsdp1819_column:\n",
    "    gsdp1819.append(c3.text)\n",
    "    \n",
    "for c4 in gsdp1920_column:\n",
    "    gsdp1920.append(c4.text)\n",
    "\n",
    "for c5 in share1819_column:\n",
    "    share1819.append(c5.text)\n",
    "    \n",
    "for c6 in gdp_column:\n",
    "    gdp.append(c6.text)\n"
   ]
  },
  {
   "cell_type": "code",
   "execution_count": null,
   "id": "d29bc536",
   "metadata": {},
   "outputs": [],
   "source": []
  },
  {
   "cell_type": "markdown",
   "id": "3138df99",
   "metadata": {},
   "source": [
    "# 7. Scrape the details of Data science recruiters from naukri.com.\n",
    "\n",
    "Url = https://www.naukri.com/\n",
    "You have to find the following details:\n",
    "A) Name\n",
    "B) Designation\n",
    "C) Company\n",
    "D) Skills they hire for\n",
    "E) Location\n",
    "\n",
    "Note: - From naukri.com homepage click on the recruiters option and the on the search pane type Data science and\n",
    "click on search. All this should be done through code"
   ]
  },
  {
   "cell_type": "code",
   "execution_count": null,
   "id": "a19c3a69",
   "metadata": {},
   "outputs": [],
   "source": [
    "# First connect to webdriver\n",
    "\n",
    "driver = webdriver.Chrome(r'C:\\Users\\BEULAH\\Downloads\\chromedriver_win32\\chromedriver.exe')\n",
    "\n",
    "\n",
    "# opening website\n",
    "\n",
    "url = 'https://www.naukri.com/'\n",
    "driver.get(url)\n"
   ]
  },
  {
   "cell_type": "code",
   "execution_count": null,
   "id": "da5bdb1a",
   "metadata": {},
   "outputs": [],
   "source": []
  },
  {
   "cell_type": "code",
   "execution_count": null,
   "id": "592ba21f",
   "metadata": {},
   "outputs": [],
   "source": [
    "8. Scrape the details of Highest selling novels.\n",
    "\n",
    "Url = https://www.theguardian.com/news/datablog/2012/aug/09/best-selling-books-all-time-fifty-shades-grey\u0002compare/\n",
    "    \n",
    "You have to find the following details:\n",
    "A) Book name\n",
    "B) Author name\n",
    "C) Volumes sold\n",
    "D) Publisher\n",
    "E) Genre"
   ]
  },
  {
   "cell_type": "code",
   "execution_count": null,
   "id": "f7ceae07",
   "metadata": {},
   "outputs": [],
   "source": []
  },
  {
   "cell_type": "markdown",
   "id": "a434f357",
   "metadata": {},
   "source": [
    "# 9. Scrape the details most watched tv series of all time from imdb.com.\n",
    "\n",
    "Url = https://www.imdb.com/list/ls095964455/\n",
    "\n",
    "You have to find the following details:\n",
    "A) Name\n",
    "B) Year span\n",
    "C) Genre\n",
    "D) Run time\n",
    "E) Ratings\n",
    "F) Votes"
   ]
  },
  {
   "cell_type": "code",
   "execution_count": 7,
   "id": "836a47d4",
   "metadata": {},
   "outputs": [],
   "source": [
    "# First connect to webdriver\n",
    "\n",
    "driver = webdriver.Chrome(r'C:\\Users\\BEULAH\\Downloads\\chromedriver_win32\\chromedriver.exe')\n",
    "\n",
    "\n",
    "# opening website\n",
    "\n",
    "url = ' https://www.imdb.com/list/ls095964455/'\n",
    "driver.get(url)"
   ]
  },
  {
   "cell_type": "code",
   "execution_count": 8,
   "id": "ee599f58",
   "metadata": {},
   "outputs": [
    {
     "data": {
      "text/plain": [
       "100"
      ]
     },
     "execution_count": 8,
     "metadata": {},
     "output_type": "execute_result"
    }
   ],
   "source": [
    "most_watched = driver.find_elements(By.XPATH,'//div[@class=\"lister-item-content\"]')\n",
    "len(most_watched)\n"
   ]
  },
  {
   "cell_type": "code",
   "execution_count": 9,
   "id": "303edb1a",
   "metadata": {},
   "outputs": [
    {
     "name": "stdout",
     "output_type": "stream",
     "text": [
      "100 100 100\n"
     ]
    }
   ],
   "source": [
    "for i in most_watched:\n",
    "    name_url = driver.find_elements(By.XPATH,'//h3[@class=\"lister-item-header\"]//a')\n",
    "    yrsp_url = driver.find_elements(By.XPATH,'//span[@class=\"lister-item-year text-muted unbold\"]')\n",
    "    gen_url = driver.find_elements(By.XPATH,'//span[@class=\"genre\"]')\n",
    "    \n",
    "print(len(name_url),len(yrsp_url),len(gen_url))   "
   ]
  },
  {
   "cell_type": "code",
   "execution_count": 23,
   "id": "cfd3aac6",
   "metadata": {},
   "outputs": [
    {
     "name": "stdout",
     "output_type": "stream",
     "text": [
      "100 100 1\n"
     ]
    }
   ],
   "source": [
    "for i in most_watched:\n",
    "    rntm_url = driver.find_elements(By.XPATH,'//span[@class=\"runtime\"]')\n",
    "    rt_url = driver.find_elements(By.XPATH,'//div[@class=\"ipl-rating-star small\"]//span[2]')\n",
    "    vot_url = driver.find_elements(By.XPATH,'/html/body/div[2]/div/div[2]/div[3]/div[1]/div/div[3]/div[3]/div[1]/div[2]/p[4]/span[2]')\n",
    "#    /html/body/div[2]/div/div[2]/div[3]/div[1]/div/div[3]/div[3]/div[1]/div[2]/p[4]/span[2]\n",
    "print(len(rntm_url),len(rt_url),len(vot_url))"
   ]
  },
  {
   "cell_type": "code",
   "execution_count": 21,
   "id": "effa496f",
   "metadata": {},
   "outputs": [
    {
     "name": "stdout",
     "output_type": "stream",
     "text": [
      "100 100 100 100 100 200\n"
     ]
    }
   ],
   "source": [
    "names = []\n",
    "year_span = []\n",
    "genre = []\n",
    "runtime = []\n",
    "ratings = []\n",
    "votes = []\n",
    "\n",
    "for n in name_url:\n",
    "    names.append(n.text)\n",
    "for y in yrsp_url:\n",
    "    year_span.append(y.text)\n",
    "for g in gen_url:\n",
    "    genre.append(g.text)\n",
    "for r in rntm_url:\n",
    "    runtime.append(r.text)\n",
    "for rt in rt_url:\n",
    "    ratings.append(rt.text)\n",
    "for v in vot_url:\n",
    "    votes.append(v.text.split(',')[0])\n",
    "    \n",
    "print(len(names),len(year_span),len(genre),len(runtime),len(ratings),len(votes))"
   ]
  },
  {
   "cell_type": "code",
   "execution_count": 19,
   "id": "b9a2545e",
   "metadata": {},
   "outputs": [
    {
     "data": {
      "text/plain": [
       "['|', '2,091,090', '|', '1,180,556', '|']"
      ]
     },
     "execution_count": 19,
     "metadata": {},
     "output_type": "execute_result"
    }
   ],
   "source": [
    "votes[:5]"
   ]
  },
  {
   "cell_type": "code",
   "execution_count": 18,
   "id": "baa3b4bc",
   "metadata": {},
   "outputs": [
    {
     "data": {
      "text/plain": [
       "['9.2', '8.7', '8.1', '7.5', '7.6']"
      ]
     },
     "execution_count": 18,
     "metadata": {},
     "output_type": "execute_result"
    }
   ],
   "source": [
    "ratings[:5]"
   ]
  },
  {
   "cell_type": "code",
   "execution_count": 17,
   "id": "f8068d06",
   "metadata": {},
   "outputs": [
    {
     "data": {
      "text/plain": [
       "['57 min', '51 min', '44 min', '60 min', '43 min']"
      ]
     },
     "execution_count": 17,
     "metadata": {},
     "output_type": "execute_result"
    }
   ],
   "source": [
    "runtime[:5]"
   ]
  },
  {
   "cell_type": "code",
   "execution_count": 19,
   "id": "99dd2491",
   "metadata": {},
   "outputs": [
    {
     "data": {
      "text/plain": [
       "['Action, Adventure, Drama',\n",
       " 'Drama, Fantasy, Horror',\n",
       " 'Drama, Horror, Thriller',\n",
       " 'Drama, Mystery, Thriller',\n",
       " 'Drama, Mystery, Sci-Fi']"
      ]
     },
     "execution_count": 19,
     "metadata": {},
     "output_type": "execute_result"
    }
   ],
   "source": [
    "genre[:5]"
   ]
  },
  {
   "cell_type": "code",
   "execution_count": 12,
   "id": "a4d28aba",
   "metadata": {},
   "outputs": [
    {
     "data": {
      "text/plain": [
       "['Game of Thrones',\n",
       " 'Stranger Things',\n",
       " 'The Walking Dead',\n",
       " '13 Reasons Why',\n",
       " 'The 100']"
      ]
     },
     "execution_count": 12,
     "metadata": {},
     "output_type": "execute_result"
    }
   ],
   "source": [
    "names[:5]"
   ]
  },
  {
   "cell_type": "code",
   "execution_count": 16,
   "id": "7674222f",
   "metadata": {},
   "outputs": [
    {
     "data": {
      "text/plain": [
       "['(2011–2019)', '(2016– )', '(2010–2022)', '(2017–2020)', '(2014–2020)']"
      ]
     },
     "execution_count": 16,
     "metadata": {},
     "output_type": "execute_result"
    }
   ],
   "source": [
    "year_span[:5]"
   ]
  },
  {
   "cell_type": "markdown",
   "id": "3027ed0d",
   "metadata": {},
   "source": [
    "# 10. Details of Datasets from UCI machine learning repositories.\n",
    "\n",
    "Url = https://archive.ics.uci.edu/\n",
    "\n",
    "You have to find the following details:\n",
    "A) Dataset name\n",
    "B) Data type\n",
    "C) Task\n",
    "D) Attribute type\n",
    "E) No of instances\n",
    "F) No of attribute\n",
    "G) Year\n",
    "\n",
    "Note: - from the home page you have to go to the ShowAllDataset page through code"
   ]
  },
  {
   "cell_type": "code",
   "execution_count": 4,
   "id": "49ee3366",
   "metadata": {},
   "outputs": [],
   "source": [
    "# First connect to webdriver\n",
    "\n",
    "driver = webdriver.Chrome(r'C:\\Users\\BEULAH\\Downloads\\chromedriver_win32\\chromedriver.exe')\n",
    "\n",
    "\n",
    "# opening website\n",
    "\n",
    "url = 'https://archive.ics.uci.edu/'\n",
    "driver.get(url)\n"
   ]
  },
  {
   "cell_type": "code",
   "execution_count": 5,
   "id": "77a22983",
   "metadata": {},
   "outputs": [],
   "source": [
    "# Show all Dataset page\n",
    "\n",
    "ds = driver.find_element(By.XPATH,'/html/body/table[2]/tbody/tr/td/span/b/a')\n",
    "ds.click()"
   ]
  },
  {
   "cell_type": "code",
   "execution_count": 6,
   "id": "3968d4c4",
   "metadata": {},
   "outputs": [
    {
     "data": {
      "text/plain": [
       "623"
      ]
     },
     "execution_count": 6,
     "metadata": {},
     "output_type": "execute_result"
    }
   ],
   "source": [
    "# To know total number of datasets\n",
    "\n",
    "row_count = len(driver.find_elements(By.XPATH,'/html/body/table[2]/tbody/tr/td[2]/table[2]/tbody/tr'))\n",
    "\n",
    "row_count"
   ]
  },
  {
   "cell_type": "code",
   "execution_count": 7,
   "id": "7f97328b",
   "metadata": {},
   "outputs": [
    {
     "name": "stdout",
     "output_type": "stream",
     "text": [
      "622\n"
     ]
    }
   ],
   "source": [
    "# scraping dataset names\n",
    "#/html/body/table[2]/tbody/tr/td[2]/table[2]/tbody/tr[2]/td[1]/table/tbody/tr/td[2]\n",
    "#/html/body/table[2]/tbody/tr/td[2]/table[2]/tbody/tr[3]/td[1]/table/tbody/tr/td[2]\n",
    "\n",
    "for r in range(1, row_count):\n",
    "    names_column = driver.find_elements(By.XPATH,'/html/body/table[2]/tbody/tr/td[2]/table[2]/tbody/tr[\"+str(r)\"]/td[1]/table/tbody/tr/td[2]')\n",
    "\n",
    "print(len(names_column))    \n",
    "\n",
    "datasetname = []\n",
    "\n",
    "for c1 in names_column:\n",
    "    datasetname.append(c1.text)\n",
    "    "
   ]
  },
  {
   "cell_type": "code",
   "execution_count": 8,
   "id": "7996ddb9",
   "metadata": {},
   "outputs": [
    {
     "data": {
      "text/plain": [
       "['Abalone',\n",
       " 'Adult',\n",
       " 'Annealing',\n",
       " 'Anonymous Microsoft Web Data',\n",
       " 'Arrhythmia',\n",
       " 'Artificial Characters',\n",
       " 'Audiology (Original)',\n",
       " 'Audiology (Standardized)',\n",
       " 'Auto MPG']"
      ]
     },
     "execution_count": 8,
     "metadata": {},
     "output_type": "execute_result"
    }
   ],
   "source": [
    "datasetname[:9]"
   ]
  },
  {
   "cell_type": "code",
   "execution_count": 9,
   "id": "050bbdd7",
   "metadata": {},
   "outputs": [],
   "source": [
    "for _ in range(700):\n",
    "    driver.execute_script(\"window.scrollBy(0,700)\")"
   ]
  },
  {
   "cell_type": "code",
   "execution_count": 10,
   "id": "56089f04",
   "metadata": {},
   "outputs": [
    {
     "name": "stdout",
     "output_type": "stream",
     "text": [
      "623\n"
     ]
    }
   ],
   "source": [
    "# scraping data type\n",
    "#/html/body/table[2]/tbody/tr/td[2]/table[2]/tbody/tr[1]/td[2]\n",
    "#/html/body/table[2]/tbody/tr/td[2]/table[2]/tbody/tr[2]/td[2]\n",
    "#/html/body/table[2]/tbody/tr/td[2]/table[2]/tbody/tr[3]/td[2]\n",
    "\n",
    "for r in range(1, row_count):\n",
    "    dttypes_column = driver.find_elements(By.XPATH,'/html/body/table[2]/tbody/tr/td[2]/table[2]/tbody/tr[\"+str(r)\"]/td[2]')\n",
    "\n",
    "print(len(dttypes_column))\n",
    "\n",
    "dttypes = []\n",
    "\n",
    "for c2 in dttypes_column:\n",
    "    dttypes.append(c2.text)"
   ]
  },
  {
   "cell_type": "code",
   "execution_count": 11,
   "id": "85622b9c",
   "metadata": {},
   "outputs": [
    {
     "data": {
      "text/plain": [
       "['Multivariate ',\n",
       " 'Multivariate ',\n",
       " 'Multivariate ',\n",
       " ' ',\n",
       " 'Multivariate ',\n",
       " 'Multivariate ',\n",
       " 'Multivariate ',\n",
       " 'Multivariate ']"
      ]
     },
     "execution_count": 11,
     "metadata": {},
     "output_type": "execute_result"
    }
   ],
   "source": [
    "dttypes[1:9]"
   ]
  },
  {
   "cell_type": "code",
   "execution_count": 11,
   "id": "4eb878be",
   "metadata": {},
   "outputs": [
    {
     "name": "stdout",
     "output_type": "stream",
     "text": [
      "623\n"
     ]
    }
   ],
   "source": [
    "#/html/body/table[2]/tbody/tr/td[2]/table[2]/tbody/tr[1]/td[3]\n",
    "#/html/body/table[2]/tbody/tr/td[2]/table[2]/tbody/tr[2]/td[3]/p\n",
    "#/html/body/table[2]/tbody/tr/td[2]/table[2]/tbody/tr[3]/td[3]/p\n",
    "\n",
    "# scraping task\n",
    "\n",
    "for r in range(1,row_count):\n",
    "    task_column = driver.find_elements(By.XPATH,'/html/body/table[2]/tbody/tr/td[2]/table[2]/tbody/tr[\"+str(r)\"]/td[3]/p')\n",
    "\n",
    "print(len(task_column))\n",
    "\n",
    "tasks = []\n",
    "\n",
    "for c3 in task_column:\n",
    "    tasks.append(c3.text)"
   ]
  },
  {
   "cell_type": "code",
   "execution_count": 13,
   "id": "b3a1a9ac",
   "metadata": {},
   "outputs": [
    {
     "data": {
      "text/plain": [
       "['Classification ',\n",
       " 'Classification ',\n",
       " 'Classification ',\n",
       " 'Recommender-Systems ',\n",
       " 'Classification ',\n",
       " 'Classification ',\n",
       " 'Classification ',\n",
       " 'Classification ']"
      ]
     },
     "execution_count": 13,
     "metadata": {},
     "output_type": "execute_result"
    }
   ],
   "source": [
    "tasks[1:9]"
   ]
  },
  {
   "cell_type": "code",
   "execution_count": 14,
   "id": "6e618143",
   "metadata": {},
   "outputs": [],
   "source": [
    "# scraping attribute type\n",
    "\n",
    "for r in range(1,row_count):\n",
    "    attributetype_column = driver.find_elements(By.XPATH,'/html/body/table[2]/tbody/tr/td[2]/table[2]/tbody/tr[\"+str(r)\"]/td[4]')\n",
    "    \n",
    "attribute_type = []    \n",
    "\n",
    "for c4 in attributetype_column:\n",
    "    attribute_type.append(c4.text)"
   ]
  },
  {
   "cell_type": "code",
   "execution_count": 15,
   "id": "1d405948",
   "metadata": {},
   "outputs": [],
   "source": [
    "for r in range(1,row_count):\n",
    "    instance_column = driver.find_elements(By.XPATH,'/html/body/table[2]/tbody/tr/td[2]/table[2]/tbody/tr[\"+str(r)\"]/td[5]')\n",
    "no_instances = []\n",
    "for c5 in instance_column:\n",
    "    no_instances.append(c5.text)"
   ]
  },
  {
   "cell_type": "code",
   "execution_count": 16,
   "id": "4246c54a",
   "metadata": {},
   "outputs": [],
   "source": [
    "for r in range(1,row_count):\n",
    "    attribute_column = driver.find_elements(By.XPATH,'/html/body/table[2]/tbody/tr/td[2]/table[2]/tbody/tr[\"+str(r)\"]/td[6]')\n",
    "    \n",
    "attributes = []\n",
    "for c6 in attribute_column:\n",
    "    attributes.append(c6.text)"
   ]
  },
  {
   "cell_type": "code",
   "execution_count": 17,
   "id": "73214ec8",
   "metadata": {},
   "outputs": [],
   "source": [
    "for r in range(1,row_count):\n",
    "    year_column = driver.find_elements(By.XPATH,'/html/body/table[2]/tbody/tr/td[2]/table[2]/tbody/tr[\"+str(r)\"]/td[7]')\n",
    "year = []\n",
    "for c7 in year_column:\n",
    "    year.append(c7.text)"
   ]
  },
  {
   "cell_type": "code",
   "execution_count": 20,
   "id": "3b66ba2e",
   "metadata": {},
   "outputs": [
    {
     "data": {
      "text/plain": [
       "['Categorical, Integer, Real ',\n",
       " 'Categorical, Integer ',\n",
       " 'Categorical, Integer, Real ',\n",
       " 'Categorical ']"
      ]
     },
     "execution_count": 20,
     "metadata": {},
     "output_type": "execute_result"
    }
   ],
   "source": [
    "attribute_type[1:5]"
   ]
  },
  {
   "cell_type": "code",
   "execution_count": 21,
   "id": "3852a8c0",
   "metadata": {},
   "outputs": [
    {
     "data": {
      "text/plain": [
       "['4177 ', '48842 ', '798 ', '37711 ']"
      ]
     },
     "execution_count": 21,
     "metadata": {},
     "output_type": "execute_result"
    }
   ],
   "source": [
    "no_instances[1:5]"
   ]
  },
  {
   "cell_type": "code",
   "execution_count": 22,
   "id": "a9fc89b2",
   "metadata": {},
   "outputs": [
    {
     "data": {
      "text/plain": [
       "['8 ', '14 ', '38 ', '294 ']"
      ]
     },
     "execution_count": 22,
     "metadata": {},
     "output_type": "execute_result"
    }
   ],
   "source": [
    "attributes[1:5]"
   ]
  },
  {
   "cell_type": "code",
   "execution_count": 23,
   "id": "30eb7f0b",
   "metadata": {},
   "outputs": [
    {
     "data": {
      "text/plain": [
       "['1995 ', '1996 ', ' ', '1998 ']"
      ]
     },
     "execution_count": 23,
     "metadata": {},
     "output_type": "execute_result"
    }
   ],
   "source": [
    "year[1:5]"
   ]
  },
  {
   "cell_type": "code",
   "execution_count": null,
   "id": "b906fb4f",
   "metadata": {},
   "outputs": [],
   "source": [
    "driver.close()"
   ]
  }
 ],
 "metadata": {
  "kernelspec": {
   "display_name": "Python 3 (ipykernel)",
   "language": "python",
   "name": "python3"
  },
  "language_info": {
   "codemirror_mode": {
    "name": "ipython",
    "version": 3
   },
   "file_extension": ".py",
   "mimetype": "text/x-python",
   "name": "python",
   "nbconvert_exporter": "python",
   "pygments_lexer": "ipython3",
   "version": "3.9.12"
  }
 },
 "nbformat": 4,
 "nbformat_minor": 5
}
